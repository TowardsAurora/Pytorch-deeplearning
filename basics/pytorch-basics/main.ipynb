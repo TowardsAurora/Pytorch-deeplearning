{
 "cells": [
  {
   "cell_type": "code",
   "id": "initial_id",
   "metadata": {
    "collapsed": true,
    "ExecuteTime": {
     "end_time": "2025-08-20T02:55:49.452143Z",
     "start_time": "2025-08-20T02:55:42.765798Z"
    }
   },
   "source": [
    "import torch\n",
    "import torch.nn as nn\n",
    "import torchvision\n",
    "import torchvision.transforms as transforms\n",
    "import numpy as np\n",
    "from humanfriendly.terminal import output\n",
    "from sympy.codegen.ast import float16\n",
    "from torch.utils.tensorboard.summary import image"
   ],
   "outputs": [],
   "execution_count": 1
  },
  {
   "metadata": {
    "ExecuteTime": {
     "end_time": "2025-08-20T02:56:34.012830Z",
     "start_time": "2025-08-20T02:56:33.994436Z"
    }
   },
   "cell_type": "code",
   "source": [
    "# ================================================================== #\n",
    "#                     1. Basic autograd example 1                    #\n",
    "# ================================================================== #\n",
    "\n",
    "x = torch.tensor(1., requires_grad=True)\n",
    "w = torch.tensor(2., requires_grad=True)\n",
    "b = torch.tensor(3., requires_grad=True)\n",
    "\n",
    "# Build a computational graph.\n",
    "y = w * x + b  #y = 2 * x + 3\n",
    "y.backward()\n",
    "\n",
    "# Print out the gradients.\n",
    "print(x.grad)\n",
    "print(w.grad)\n",
    "print(b.grad)"
   ],
   "id": "eba5a8412873dd37",
   "outputs": [
    {
     "name": "stdout",
     "output_type": "stream",
     "text": [
      "tensor(2.)\n",
      "tensor(1.)\n",
      "tensor(1.)\n"
     ]
    }
   ],
   "execution_count": 3
  },
  {
   "metadata": {
    "ExecuteTime": {
     "end_time": "2025-08-20T03:12:55.889921Z",
     "start_time": "2025-08-20T03:12:55.867128Z"
    }
   },
   "cell_type": "code",
   "source": [
    "# ================================================================== #\n",
    "#                    2. Basic autograd example 2                     #\n",
    "# ================================================================== #\n",
    "# Create tensors of shape (10, 3) and (10, 2).\n",
    "x = torch.randn(10,3)\n",
    "y = torch.randn(10,2)\n",
    "\n",
    "# print(x)\n",
    "# print(y)\n",
    "# Build a fully connected layer.\n",
    "linear =   nn.Linear(3,2)\n",
    "w = linear.weight\n",
    "b = linear.bias\n",
    "\n",
    "print ('w: ', w)\n",
    "print ('b: ', b)\n",
    "\n",
    "criterion = nn.MSELoss()\n",
    "optimizer= torch.optim.SGD(linear.parameters(),lr = 0.01)\n",
    "# Forward pass.\n",
    "y_pred = linear(x)\n",
    "\n",
    "# Compute the loss.\n",
    "loss = criterion(y_pred, y)\n",
    "print(loss.item())\n",
    "loss.backward()\n",
    "\n",
    "print(\"dL/dw:\",  linear.weight.grad)\n",
    "print(\"dL/db\",linear.bias.grad)\n",
    "\n",
    "optimizer.step()\n",
    "\n",
    "pred = linear(x)\n",
    "loss = criterion(pred, y)\n",
    "print(\"After one optimizer step, loss:\", loss.item())"
   ],
   "id": "2073fbbc23e419ca",
   "outputs": [
    {
     "name": "stdout",
     "output_type": "stream",
     "text": [
      "w:  Parameter containing:\n",
      "tensor([[ 0.3689, -0.5199,  0.0976],\n",
      "        [ 0.2856,  0.5149, -0.0815]], requires_grad=True)\n",
      "b:  Parameter containing:\n",
      "tensor([ 0.0976, -0.3830], requires_grad=True)\n",
      "1.3297983407974243\n",
      "dL/dw: tensor([[ 0.6949, -0.6964, -0.3265],\n",
      "        [-0.2497, -0.0506, -0.0406]])\n",
      "dL/db tensor([ 0.4565, -0.2645])\n",
      "After optimizer step, loss: 1.3157014846801758\n"
     ]
    }
   ],
   "execution_count": 13
  },
  {
   "metadata": {
    "ExecuteTime": {
     "end_time": "2025-08-20T04:22:20.900367Z",
     "start_time": "2025-08-20T04:22:20.895186Z"
    }
   },
   "cell_type": "code",
   "source": [
    "# ================================================================== #\n",
    "#                     3. Loading data from numpy                     #\n",
    "# ================================================================== #\n",
    "x = np.array([[1.,2.],[3.,4.]],dtype=np.float32)\n",
    "y = torch.from_numpy(x)\n",
    "z = y.numpy()\n",
    "z"
   ],
   "id": "62b9c45cb4c1b4f5",
   "outputs": [
    {
     "data": {
      "text/plain": [
       "array([[1., 2.],\n",
       "       [3., 4.]], dtype=float32)"
      ]
     },
     "execution_count": 21,
     "metadata": {},
     "output_type": "execute_result"
    }
   ],
   "execution_count": 21
  },
  {
   "metadata": {
    "ExecuteTime": {
     "end_time": "2025-08-20T04:48:32.156114Z",
     "start_time": "2025-08-20T04:48:31.340866Z"
    }
   },
   "cell_type": "code",
   "source": [
    "# ================================================================== #\n",
    "#                         4. Input pipeline                           #\n",
    "# ================================================================== #\n",
    "\n",
    "train_dataset = torchvision.datasets.CIFAR10(\n",
    "    root='../cifar10',\n",
    "    train=True,\n",
    "    download=True,\n",
    "    transform=transforms.ToTensor()\n",
    ")\n",
    "\n",
    "image,label = train_dataset[0]\n",
    "print (image.size())\n",
    "print (label)\n",
    "\n",
    "# data loader\n",
    "train_loader = torch.utils.data.DataLoader(\n",
    "    dataset=train_dataset,\n",
    "    batch_size=64,\n",
    "    shuffle=True,\n",
    ")\n",
    "\n",
    "print(len(train_loader))\n",
    "dataiter = iter(train_loader)\n",
    "\n",
    "images, labels = next(dataiter)\n",
    "print(images.size())\n",
    "print(labels.size())\n",
    "\n"
   ],
   "id": "c4f970cc3fb0a668",
   "outputs": [
    {
     "name": "stdout",
     "output_type": "stream",
     "text": [
      "torch.Size([3, 32, 32])\n",
      "6\n",
      "782\n",
      "torch.Size([64, 3, 32, 32])\n",
      "torch.Size([64])\n"
     ]
    }
   ],
   "execution_count": 37
  },
  {
   "metadata": {},
   "cell_type": "code",
   "outputs": [],
   "execution_count": null,
   "source": [
    "# ================================================================== #\n",
    "#                5. Input pipeline for custom dataset                 #\n",
    "# ================================================================== #\n",
    "class CustomDataset(torch.utils.data.Dataset):\n",
    "    def __init__(self):\n",
    "        # TODO\n",
    "        pass\n",
    "    def __getitem__(self, index):\n",
    "        # TODO\n",
    "        pass\n",
    "    def __len__(self):\n",
    "        return 0\n",
    "\n",
    "# usage\n",
    "custom_dataset = CustomDataset()\n",
    "train_loader = torch.utils.data.DataLoader(\n",
    "    dataset=custom_dataset,\n",
    "    batch_size=64,\n",
    "    shuffle=True,\n",
    ")"
   ],
   "id": "7bcc4ab5998b9b73"
  },
  {
   "metadata": {},
   "cell_type": "code",
   "outputs": [],
   "execution_count": null,
   "source": [
    "# ================================================================== #\n",
    "#                        6. Pretrained model                         #\n",
    "# ================================================================== #\n",
    "resnet = torchvision.models.resnet18(pretrained=True)\n",
    "for param in resnet.parameters():\n",
    "    param.requires_grad = False  # Freeze the parameters\n",
    "nn.Linear(resnet.fc.in_features, 100)\n",
    "images = torch.randn(64,3,32,32)\n",
    "output = resnet(images)\n",
    "print(output.size())"
   ],
   "id": "c476e82ebb24d9f3"
  },
  {
   "metadata": {},
   "cell_type": "code",
   "outputs": [],
   "execution_count": null,
   "source": [
    "# ================================================================== #\n",
    "#                      7. Save and load the model                    #\n",
    "# ================================================================== #\n",
    "\n",
    "torch.save(resnet, 'resnet.pth')  # Save the entire model\n",
    "model = torch.load('resnet.pth')  # Load the entire model\n",
    "\n",
    "torch.save(resnet.state_dict(), 'resnet.pth')# Save and load only the model parameters\n",
    "model = torch.load('resnet.pth')"
   ],
   "id": "496965056cecb003"
  }
 ],
 "metadata": {
  "kernelspec": {
   "display_name": "Python 3",
   "language": "python",
   "name": "python3"
  },
  "language_info": {
   "codemirror_mode": {
    "name": "ipython",
    "version": 2
   },
   "file_extension": ".py",
   "mimetype": "text/x-python",
   "name": "python",
   "nbconvert_exporter": "python",
   "pygments_lexer": "ipython2",
   "version": "2.7.6"
  }
 },
 "nbformat": 4,
 "nbformat_minor": 5
}
